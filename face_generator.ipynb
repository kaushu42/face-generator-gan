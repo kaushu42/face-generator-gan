{
 "cells": [
  {
   "cell_type": "code",
   "execution_count": null,
   "metadata": {},
   "outputs": [],
   "source": [
    "import os\n",
    "\n",
    "import numpy as np\n",
    "from tqdm import tqdm\n",
    "import cv2\n",
    "import matplotlib.pyplot as plt\n",
    "\n",
    "from tensorflow.keras.models import Model, Sequential\n",
    "from tensorflow.keras.layers import Input, Reshape, Dense, Dropout, Flatten, LeakyReLU, Conv2D, UpSampling2D\n",
    "from tensorflow.keras.optimizers import Adam\n",
    "from tensorflow.keras import backend as K\n",
    "from tensorflow.keras import initializers"
   ]
  },
  {
   "cell_type": "code",
   "execution_count": null,
   "metadata": {},
   "outputs": [],
   "source": [
    "INPUT_DIR = 'inputs'\n",
    "latent_dim = 100\n",
    "files = os.listdir(INPUT_DIR)\n",
    "X_train = []\n",
    "for i in tqdm(files):\n",
    "    x = cv2.imread(os.path.join(INPUT_DIR, i))\n",
    "    x = cv2.resize(x, (100, 100))\n",
    "    X_train.append(x)\n",
    "X_train = np.array(X_train)/255"
   ]
  },
  {
   "cell_type": "code",
   "execution_count": null,
   "metadata": {},
   "outputs": [],
   "source": [
    "def build_generator(optimizer):\n",
    "    generator = Sequential()\n",
    "    generator.add(Dense(64*7*7, input_dim=latent_dim))\n",
    "    generator.add(LeakyReLU(0.2))\n",
    "    generator.add(Reshape((7, 7, 64)))\n",
    "    generator.add(UpSampling2D(size=(2, 2)))\n",
    "    generator.add(Conv2D(128, kernel_size=(3, 3), padding='same'))\n",
    "    generator.add(LeakyReLU(0.2))\n",
    "    generator.add(UpSampling2D(size=(2, 2)))\n",
    "    generator.add(Conv2D(256, kernel_size=(3, 3), padding='valid'))\n",
    "    generator.add(LeakyReLU(0.2))\n",
    "    generator.add(UpSampling2D(size=(2, 2)))\n",
    "    generator.add(Conv2D(512, kernel_size=(3, 3), padding='valid'))\n",
    "    generator.add(LeakyReLU(0.2))\n",
    "    generator.add(UpSampling2D(size=(2, 2)))\n",
    "    generator.add(Conv2D(3, kernel_size=(5, 5), padding='same', activation='sigmoid'))\n",
    "    generator.compile(loss='binary_crossentropy', optimizer=optimizer)\n",
    "    return generator"
   ]
  },
  {
   "cell_type": "code",
   "execution_count": null,
   "metadata": {},
   "outputs": [],
   "source": [
    "def build_discriminator(optimizer):\n",
    "    discriminator = Sequential()\n",
    "    discriminator.add(Conv2D(64, kernel_size=(5, 5), strides=(2, 2), padding='same', \n",
    "                             input_shape=(100, 100, 3), kernel_initializer=initializers.RandomNormal(stddev=0.02)))\n",
    "    discriminator.add(LeakyReLU(0.2))\n",
    "    discriminator.add(Dropout(0.3))\n",
    "    discriminator.add(Conv2D(128, kernel_size=(5, 5), strides=(2, 2), padding='same'))\n",
    "    discriminator.add(LeakyReLU(0.2))\n",
    "    discriminator.add(Dropout(0.3))\n",
    "    discriminator.add(Flatten())\n",
    "    discriminator.add(Dense(1, activation='sigmoid'))\n",
    "    discriminator.compile(loss='binary_crossentropy', optimizer=optimizer)\n",
    "    return discriminator"
   ]
  },
  {
   "cell_type": "code",
   "execution_count": null,
   "metadata": {},
   "outputs": [],
   "source": [
    "def build_gan(generator, discriminator, optimizer):\n",
    "    discriminator.trainable = False\n",
    "    gan_input = Input(shape=(latent_dim,))\n",
    "    x = generator(gan_input)\n",
    "    gan_output = discriminator(x)\n",
    "    gan = Model(inputs=gan_input, outputs=gan_output)\n",
    "    gan.compile(loss='binary_crossentropy', optimizer=optimizer)\n",
    "    return gan"
   ]
  },
  {
   "cell_type": "code",
   "execution_count": null,
   "metadata": {},
   "outputs": [],
   "source": [
    "def plot_images(epoch, examples=16, dim=(4, 4), figsize=(4, 4), offset=0):\n",
    "    noise = np.random.normal(0, 1, size=[examples, latent_dim])\n",
    "    generatedImages = generator.predict(noise)\n",
    "\n",
    "    plt.figure(figsize=figsize)\n",
    "    for i in range(generatedImages.shape[0]):\n",
    "        plt.subplot(dim[0], dim[1], i+1)\n",
    "        plt.imshow((generatedImages[i]*255).astype(int)[:, :, ::-1])\n",
    "        plt.axis('off')\n",
    "    plt.tight_layout()\n",
    "    plt.savefig('outputs/image_epoch_%d.png' % (epoch + offset))\n",
    "    plt.close()\n",
    "\n",
    "def save_models(epoch, offset=0):\n",
    "    generator.save('models/epoch_%d.h5' % (epoch + offset))\n",
    "    discriminator.save('models/epoch_%d.h5' % (epoch + offset))\n",
    "\n",
    "def plot_loss(epoch, offset=0):\n",
    "    plt.figure(figsize=(8, 6))\n",
    "    plt.plot(g_loss, label='Generator loss')\n",
    "    plt.plot(d_loss, label='Discriminator loss')\n",
    "    plt.xlabel('Epoch')\n",
    "    plt.ylabel('Loss')\n",
    "    plt.legend()\n",
    "    plt.savefig('outputs/loss_epoch_%d.png' % (epoch+offset))\n",
    "    plt.close()"
   ]
  },
  {
   "cell_type": "code",
   "execution_count": null,
   "metadata": {},
   "outputs": [],
   "source": [
    "def train(*, generator, discriminator, gan):\n",
    "    offset = 0 # Set this to the last trained epoch\n",
    "    epochs = 100\n",
    "    batch_size = 8\n",
    "    batch_count = X_train.shape[0] // batch_size\n",
    "\n",
    "    d_loss = []\n",
    "    g_loss = []\n",
    "\n",
    "    for e in (range(1, epochs+1)):\n",
    "        print('Epoch %d' % e)\n",
    "        for i in tqdm(range(batch_count)):\n",
    "            noise = np.random.normal(0, 1, size=[batch_size, latent_dim])\n",
    "            real = X_train[np.random.randint(0, X_train.shape[0], size=batch_size)]\n",
    "\n",
    "            generated_images = generator.predict(noise)\n",
    "            X = np.concatenate([real, generated_images])\n",
    "\n",
    "            y_dis = np.zeros(2*batch_size)\n",
    "            y_dis[:batch_size] = 0.9\n",
    "\n",
    "            discriminator.trainable = True\n",
    "            dloss = discriminator.train_on_batch(X, y_dis)\n",
    "\n",
    "            noise = np.random.normal(0, 1, size=[batch_size, latent_dim])\n",
    "            y_gen = np.ones(batch_size)\n",
    "            discriminator.trainable = False\n",
    "            gloss = gan.train_on_batch(noise, y_gen)\n",
    "\n",
    "        d_loss.append(dloss)\n",
    "        g_loss.append(gloss)\n",
    "\n",
    "        plot_images(e, offset=offset)\n",
    "        \n",
    "        if e % 5 == 0:\n",
    "            save_models(e, offset=offset)\n",
    "\n",
    "    return g_loss, d_loss"
   ]
  },
  {
   "cell_type": "markdown",
   "metadata": {},
   "source": [
    "# Build all the models"
   ]
  },
  {
   "cell_type": "code",
   "execution_count": null,
   "metadata": {},
   "outputs": [],
   "source": [
    "K.clear_session()\n",
    "optimizer = Adam(lr=0.0002, beta_1=0.5)\n",
    "generator = build_generator(optimizer)\n",
    "discriminator = build_discriminator(optimizer)\n",
    "gan = build_gan(generator, discriminator, optimizer)"
   ]
  },
  {
   "cell_type": "markdown",
   "metadata": {},
   "source": [
    "# Train the models"
   ]
  },
  {
   "cell_type": "code",
   "execution_count": null,
   "metadata": {},
   "outputs": [],
   "source": [
    "train(generator=generator, discriminator=discriminator, gan=gan)"
   ]
  }
 ],
 "metadata": {
  "kernelspec": {
   "display_name": "Python 3",
   "language": "python",
   "name": "python3"
  },
  "language_info": {
   "codemirror_mode": {
    "name": "ipython",
    "version": 3
   },
   "file_extension": ".py",
   "mimetype": "text/x-python",
   "name": "python",
   "nbconvert_exporter": "python",
   "pygments_lexer": "ipython3",
   "version": "3.6.8"
  }
 },
 "nbformat": 4,
 "nbformat_minor": 2
}
