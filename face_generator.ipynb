{
 "cells": [
  {
   "cell_type": "code",
   "execution_count": 2,
   "metadata": {},
   "outputs": [],
   "source": [
    "import os\n",
    "\n",
    "import numpy as np\n",
    "from tqdm import tqdm\n",
    "import cv2\n",
    "import matplotlib.pyplot as plt\n",
    "\n",
    "from tensorflow.keras.models import Model, Sequential\n",
    "from tensorflow.keras.layers import Input, Reshape, Dense, Dropout, Flatten, LeakyReLU, Conv2D, UpSampling2D\n",
    "from tensorflow.keras.optimizers import Adam\n",
    "from tensorflow.keras import backend as K\n",
    "from tensorflow.keras import initializers"
   ]
  },
  {
   "cell_type": "code",
   "execution_count": 2,
   "metadata": {},
   "outputs": [
    {
     "name": "stderr",
     "output_type": "stream",
     "text": [
      "100%|██████████| 3315/3315 [00:01<00:00, 2603.40it/s]\n"
     ]
    }
   ],
   "source": [
    "K.set_image_dim_ordering('tf')\n",
    "\n",
    "latent_dim = 100\n",
    "files = os.listdir('input_images')\n",
    "X_train = []\n",
    "for i in tqdm(files):\n",
    "    x = cv2.imread(os.path.join('input_images', i))\n",
    "    x = cv2.resize(x, (80, 80))\n",
    "    X_train.append(x)\n",
    "X_train = np.array(X_train)/255"
   ]
  },
  {
   "cell_type": "code",
   "execution_count": 3,
   "metadata": {},
   "outputs": [
    {
     "name": "stdout",
     "output_type": "stream",
     "text": [
      "WARNING:tensorflow:From /home/kaush/.local/lib/python3.6/site-packages/tensorflow/python/framework/op_def_library.py:263: colocate_with (from tensorflow.python.framework.ops) is deprecated and will be removed in a future version.\n",
      "Instructions for updating:\n",
      "Colocations handled automatically by placer.\n"
     ]
    }
   ],
   "source": [
    "K.clear_session()\n",
    "optimizer = Adam(lr=0.0002, beta_1=0.5)"
   ]
  },
  {
   "cell_type": "code",
   "execution_count": 4,
   "metadata": {},
   "outputs": [],
   "source": [
    "generator = Sequential()\n",
    "generator.add(Dense(64*7*7, input_dim=latent_dim))\n",
    "generator.add(LeakyReLU(0.2))\n",
    "generator.add(Reshape((7, 7, 64)))\n",
    "generator.add(UpSampling2D(size=(2, 2)))\n",
    "generator.add(Conv2D(64, kernel_size=(3, 3), padding='same'))\n",
    "generator.add(LeakyReLU(0.2))\n",
    "generator.add(UpSampling2D(size=(2, 2)))\n",
    "generator.add(Conv2D(64, kernel_size=(5, 5), padding='valid'))\n",
    "generator.add(LeakyReLU(0.2))\n",
    "generator.add(UpSampling2D(size=(2, 2)))\n",
    "generator.add(Conv2D(64, kernel_size=(5, 5), padding='valid'))\n",
    "generator.add(LeakyReLU(0.2))\n",
    "generator.add(UpSampling2D(size=(2, 2)))\n",
    "generator.add(Conv2D(64, kernel_size=(5, 5), padding='valid'))\n",
    "generator.add(LeakyReLU(0.2))\n",
    "generator.add(Conv2D(3, kernel_size=(5, 5), padding='valid', activation='sigmoid'))\n",
    "generator.compile(loss='binary_crossentropy', optimizer=optimizer)"
   ]
  },
  {
   "cell_type": "code",
   "execution_count": 5,
   "metadata": {},
   "outputs": [
    {
     "name": "stdout",
     "output_type": "stream",
     "text": [
      "WARNING:tensorflow:From /home/kaush/.local/lib/python3.6/site-packages/keras/backend/tensorflow_backend.py:3445: calling dropout (from tensorflow.python.ops.nn_ops) with keep_prob is deprecated and will be removed in a future version.\n",
      "Instructions for updating:\n",
      "Please use `rate` instead of `keep_prob`. Rate should be set to `rate = 1 - keep_prob`.\n"
     ]
    }
   ],
   "source": [
    "discriminator = Sequential()\n",
    "discriminator.add(Conv2D(64, kernel_size=(5, 5), strides=(2, 2), padding='same', \n",
    "                         input_shape=(80, 80, 3), kernel_initializer=initializers.RandomNormal(stddev=0.02)))\n",
    "discriminator.add(LeakyReLU(0.2))\n",
    "discriminator.add(Dropout(0.3))\n",
    "discriminator.add(Conv2D(128, kernel_size=(5, 5), strides=(2, 2), padding='same'))\n",
    "discriminator.add(LeakyReLU(0.2))\n",
    "discriminator.add(Dropout(0.3))\n",
    "discriminator.add(Flatten())\n",
    "discriminator.add(Dense(1, activation='sigmoid'))\n",
    "discriminator.compile(loss='binary_crossentropy', optimizer=optimizer)"
   ]
  },
  {
   "cell_type": "code",
   "execution_count": 6,
   "metadata": {},
   "outputs": [],
   "source": [
    "discriminator.trainable = False\n",
    "gan_input = Input(shape=(latent_dim,))\n",
    "x = generator(gan_input)\n",
    "gan_output = discriminator(x)\n",
    "gan = Model(inputs=gan_input, outputs=gan_output)\n",
    "gan.compile(loss='binary_crossentropy', optimizer=optimizer)"
   ]
  },
  {
   "cell_type": "code",
   "execution_count": 11,
   "metadata": {},
   "outputs": [],
   "source": [
    "def plot_images(epoch, examples=16, dim=(4, 4), figsize=(4, 4), offset=0):\n",
    "    noise = np.random.normal(0, 1, size=[examples, latent_dim])\n",
    "    generatedImages = generator.predict(noise)\n",
    "\n",
    "    plt.figure(figsize=figsize)\n",
    "    for i in range(generatedImages.shape[0]):\n",
    "        plt.subplot(dim[0], dim[1], i+1)\n",
    "        plt.imshow((generatedImages[i]*255).astype(int), interpolation='nearest')\n",
    "        plt.axis('off')\n",
    "    plt.tight_layout()\n",
    "    plt.savefig('images/image_epoch_%d.png' % (epoch + offset))\n",
    "    plt.close()\n",
    "\n",
    "def save_models(epoch, offset=0):\n",
    "    generator.save('models/epoch_%d.h5' % (epoch + offset))\n",
    "    discriminator.save('models/epoch_%d.h5' % (epoch + offset))\n",
    "\n",
    "def plot_loss(epoch, offset=0):\n",
    "    plt.figure(figsize=(8, 6))\n",
    "    plt.plot(g_loss, label='Generator loss')\n",
    "    plt.plot(d_loss, label='Discriminator loss')\n",
    "    plt.xlabel('Epoch')\n",
    "    plt.ylabel('Loss')\n",
    "    plt.legend()\n",
    "    plt.savefig('images/loss_epoch_%d.png' % (epoch+offset))\n",
    "    plt.close()"
   ]
  },
  {
   "cell_type": "markdown",
   "metadata": {},
   "source": [
    "## Train our GAN and Plot the Synthetic Image Outputs \n",
    "\n",
    "After each consecutive Epoch we can see how synthetic images being improved "
   ]
  },
  {
   "cell_type": "code",
   "execution_count": 14,
   "metadata": {},
   "outputs": [],
   "source": [
    "plot_images(1)\n",
    "plot_loss(1)\n",
    "save_models(1)"
   ]
  },
  {
   "cell_type": "code",
   "execution_count": null,
   "metadata": {
    "collapsed": true
   },
   "outputs": [],
   "source": [
    "# epochs = 100\n",
    "batch_size = 32\n",
    "batch_count = X_train.shape[0] // batch_size\n",
    "d_loss = []\n",
    "g_loss = []\n",
    "print('Epochs:', epochs)\n",
    "print('Batch size:', batch_size)\n",
    "print('Batches per epoch:', batch_count)\n",
    "\n",
    "for e in range(1, epochs+1):\n",
    "#     print('Epoch %d' % e)\n",
    "    for i in tqdm(range(batch_count)):\n",
    "        noise = np.random.normal(0, 1, size=[batch_size, latent_dim])\n",
    "        real = X_train[np.random.randint(0, X_train.shape[0], size=batch_size)]\n",
    "\n",
    "        generated_images = generator.predict(noise)\n",
    "        X = np.concatenate([real, generated_images])\n",
    "\n",
    "        y_dis = np.zeros(2*batch_size)\n",
    "        y_dis[:batch_size] = 0.9\n",
    "\n",
    "        discriminator.trainable = True\n",
    "        dloss = discriminator.train_on_batch(X, y_dis)\n",
    "\n",
    "        noise = np.random.normal(0, 1, size=[batch_size, latent_dim])\n",
    "        y_gen = np.ones(batch_size)\n",
    "        discriminator.trainable = False\n",
    "        gloss = gan.train_on_batch(noise, y_gen)\n",
    "#         print('.', end='')\n",
    "#     print()\n",
    "    \n",
    "    d_loss.append(dloss)\n",
    "    g_loss.append(gloss)\n",
    "\n",
    "    plot_images(e, offset=63)\n",
    "    plot_loss(e, offset=63)\n",
    "    if epochs % 5 == 0:\n",
    "        save_models(e, offset=63)\n",
    "\n"
   ]
  },
  {
   "cell_type": "code",
   "execution_count": null,
   "metadata": {},
   "outputs": [],
   "source": []
  }
 ],
 "metadata": {
  "kernelspec": {
   "display_name": "Python 3",
   "language": "python",
   "name": "python3"
  },
  "language_info": {
   "codemirror_mode": {
    "name": "ipython",
    "version": 3
   },
   "file_extension": ".py",
   "mimetype": "text/x-python",
   "name": "python",
   "nbconvert_exporter": "python",
   "pygments_lexer": "ipython3",
   "version": "3.6.8"
  }
 },
 "nbformat": 4,
 "nbformat_minor": 2
}
